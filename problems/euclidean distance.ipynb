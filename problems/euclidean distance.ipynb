{
 "cells": [
  {
   "cell_type": "markdown",
   "id": "dfa6b8f5",
   "metadata": {},
   "source": [
    "### Using linalg.norm()\n",
    "- using linear algebra norm function"
   ]
  },
  {
   "cell_type": "code",
   "execution_count": 4,
   "id": "5d3bcf6c",
   "metadata": {},
   "outputs": [
    {
     "data": {
      "text/plain": [
       "2.23606797749979"
      ]
     },
     "execution_count": 4,
     "metadata": {},
     "output_type": "execute_result"
    }
   ],
   "source": [
    "import numpy as np\n",
    "def euclideanDistance(pointX,pointY):\n",
    "    pointX = np.array(pointX)\n",
    "    pointY = np.array(pointY)\n",
    "    return np.linalg.norm(pointX-pointY)\n",
    "euclideanDistance((1,2,3),(1,1,1))"
   ]
  },
  {
   "cell_type": "markdown",
   "id": "34cb4519",
   "metadata": {},
   "source": [
    "### Using dot()\n",
    "- using dot product\n"
   ]
  },
  {
   "cell_type": "code",
   "execution_count": 8,
   "id": "e33431d3",
   "metadata": {},
   "outputs": [
    {
     "data": {
      "text/plain": [
       "2.23606797749979"
      ]
     },
     "execution_count": 8,
     "metadata": {},
     "output_type": "execute_result"
    }
   ],
   "source": [
    "def euclideanDistance(pointX,pointY):\n",
    "    pointX = np.array(pointX)\n",
    "    pointY = np.array(pointY)\n",
    "    diffVector = pointX-pointY\n",
    "    # transposing a square matrix and multiply will result items squared matrix\n",
    "    sumOfSquares = np.dot(diffVector.T,diffVector)\n",
    "    return np.sqrt(sumOfSquares)\n",
    "euclideanDistance((1,2,3),(1,1,1))"
   ]
  },
  {
   "cell_type": "markdown",
   "id": "529a7827",
   "metadata": {},
   "source": [
    "### Using square() and sum() \n"
   ]
  },
  {
   "cell_type": "code",
   "execution_count": 9,
   "id": "d4724ce8",
   "metadata": {},
   "outputs": [
    {
     "data": {
      "text/plain": [
       "2.23606797749979"
      ]
     },
     "execution_count": 9,
     "metadata": {},
     "output_type": "execute_result"
    }
   ],
   "source": [
    "def euclideanDistance(pointX,pointY):\n",
    "    pointX = np.array(pointX)\n",
    "    pointY = np.array(pointY)\n",
    "    sumOfSquares = np.sum(np.square(pointX-pointY))\n",
    "    return np.sqrt(sumOfSquares)\n",
    "euclideanDistance((1,2,3),(1,1,1))"
   ]
  },
  {
   "cell_type": "code",
   "execution_count": null,
   "id": "d66a38b7",
   "metadata": {},
   "outputs": [],
   "source": []
  }
 ],
 "metadata": {
  "kernelspec": {
   "display_name": "Python 3 (ipykernel)",
   "language": "python",
   "name": "python3"
  },
  "language_info": {
   "codemirror_mode": {
    "name": "ipython",
    "version": 3
   },
   "file_extension": ".py",
   "mimetype": "text/x-python",
   "name": "python",
   "nbconvert_exporter": "python",
   "pygments_lexer": "ipython3",
   "version": "3.9.13"
  }
 },
 "nbformat": 4,
 "nbformat_minor": 5
}
